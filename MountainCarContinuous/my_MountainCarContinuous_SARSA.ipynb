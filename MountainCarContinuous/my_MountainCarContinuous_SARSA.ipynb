{
 "cells": [
  {
   "cell_type": "markdown",
   "metadata": {},
   "source": [
    "## MountainCarContinuous-v0 Question: \n",
    "\n",
    "### Observation\n",
    "\n",
    "观测值，即智能体的状态，包括位置和速度，具体取值范围如下：  \n",
    "位置：-1.2 —— 0.6  \n",
    "速度：-0.07 —— 0.07\n",
    "\n",
    "### Actions\n",
    "\n",
    "智能体的行为：向左或向右一定的距离或不动。这里的距离是连续的值，需要对其进行离散化\n",
    "\n",
    "### Reward\n",
    "\n",
    "回报是达到右边山上的目标点为100，再减去从开始到目标的行动的平方和。\n",
    "此回报函数提出了一个探索挑战，如果代理不能很快到达目标，它会发现最好不要移动，也不会再找到目标。\n",
    "\n",
    "### Starting State\n",
    "\n",
    "位置为0.5，速度为0"
   ]
  },
  {
   "cell_type": "code",
   "execution_count": 1,
   "metadata": {},
   "outputs": [],
   "source": [
    "import gym\n",
    "import numpy as np\n",
    "import matplotlib.pyplot as plt\n",
    "import seaborn as sns"
   ]
  },
  {
   "cell_type": "markdown",
   "metadata": {},
   "source": [
    "# Model"
   ]
  },
  {
   "cell_type": "code",
   "execution_count": 2,
   "metadata": {},
   "outputs": [
    {
     "data": {
      "text/plain": [
       "array([-0.44010837,  0.        ])"
      ]
     },
     "execution_count": 2,
     "metadata": {},
     "output_type": "execute_result"
    }
   ],
   "source": [
    "#导入模型，MountainCarContinuous问题\n",
    "env = gym.make(\"MountainCarContinuous-v0\")\n",
    "env.reset()"
   ]
  },
  {
   "cell_type": "markdown",
   "metadata": {},
   "source": [
    "# Parameter"
   ]
  },
  {
   "cell_type": "code",
   "execution_count": 4,
   "metadata": {},
   "outputs": [],
   "source": [
    "#基本参数\n",
    "alpha = 0.5 #学习率\n",
    "gama = 0.95 #折现因子\n",
    "episodes_num = 5000 #训练轮数\n",
    "display_num = 200 #训练时每隔多少轮显示进度\n",
    "Qtable_size = 200 #Q表的长度\n",
    "\n",
    "#离散化参数\n",
    "#行动\n",
    "action_space = np.array(range(-10,11,4))/10. #从-1到1分为6份\n",
    "action_space = action_space.reshape(len(action_space),1) #适应环境需要进行reshape\n",
    "#状态\n",
    "discrete_size = [Qtable_size] * len(env.observation_space.high) #200*200\n",
    "discrete_step = (env.observation_space.high - env.observation_space.low) / discrete_size #单位步长\n",
    "q_table = np.random.uniform(low=0, high=1,size=(discrete_size + [len(action_space)])) #Q表初始化，大小：200*200*6\n",
    "\n",
    "#ε参数\n",
    "#初始为１，后续随训练轮数逐渐减小\n",
    "epsilon = 1\n",
    "start_episode = 1\n",
    "end_episode = episodes_num//2\n",
    "#每步递减值\n",
    "de_step = epsilon/(end_episode - start_episode)"
   ]
  },
  {
   "cell_type": "markdown",
   "metadata": {},
   "source": [
    "# Auxiliary Function"
   ]
  },
  {
   "cell_type": "code",
   "execution_count": 5,
   "metadata": {},
   "outputs": [],
   "source": [
    "#帮助函数\n",
    "#离散化状态——将连续的状态变位离散的状态\n",
    "def get_discrete_state (state):\n",
    "    discrete_state = (state - env.observation_space.low) // discrete_step\n",
    "    return tuple(discrete_state.astype(int))\n",
    "\n",
    "#ε—贪心策略执行行动。注：这里的行动由index指向action_space中的具体行为\n",
    "def take_epilon_greedy_action(state, epsilon):\n",
    "    discrete_state = get_discrete_state(state)\n",
    "    if np.random.random() < epsilon:\n",
    "        action_indx = np.random.randint(0,len(action_space))\n",
    "    else:\n",
    "        action_indx = np.argmax(q_table[discrete_state])\n",
    "    return action_indx, action_space[action_indx]"
   ]
  },
  {
   "cell_type": "markdown",
   "metadata": {},
   "source": [
    "#  Storage"
   ]
  },
  {
   "cell_type": "code",
   "execution_count": 6,
   "metadata": {},
   "outputs": [],
   "source": [
    "#回报存储\n",
    "ep_rewards = []\n",
    "aggr_ep_rewards = {'ep':[],'avg':[],'min':[],'max':[]}"
   ]
  },
  {
   "cell_type": "markdown",
   "metadata": {},
   "source": [
    "# Train"
   ]
  },
  {
   "cell_type": "code",
   "execution_count": 11,
   "metadata": {},
   "outputs": [
    {
     "name": "stdout",
     "output_type": "stream",
     "text": [
      "episode: 0\n",
      "episode: 200\n",
      "episode: 400\n",
      "episode: 600\n",
      "episode: 800\n",
      "episode: 1000\n",
      "episode: 1200\n",
      "episode: 1400\n",
      "episode: 1600\n",
      "episode: 1800\n",
      "episode: 2000\n",
      "episode: 2200\n",
      "episode: 2400\n",
      "episode: 2600\n",
      "episode: 2800\n",
      "episode: 3000\n",
      "episode: 3200\n",
      "episode: 3400\n",
      "episode: 3600\n",
      "episode: 3800\n",
      "episode: 4000\n",
      "episode: 4200\n",
      "episode: 4400\n",
      "episode: 4600\n",
      "episode: 4800\n"
     ]
    }
   ],
   "source": [
    "for episode in range(episodes_num):\n",
    "    # initiate reward every episode\n",
    "    ep_reward = 0\n",
    "    if episode % display_num == 0:\n",
    "        print(\"episode: {}\".format(episode))\n",
    "        render = True\n",
    "    else:\n",
    "        render = False\n",
    "\n",
    "    state = env.reset()\n",
    "    #At\n",
    "    action_indx, action = take_epilon_greedy_action(state, epsilon)\n",
    "    done = False\n",
    "    while not done:\n",
    "        #St，At——St+1\n",
    "        next_state, reward, done, _ = env.step(action)\n",
    "        #回报累计\n",
    "        ep_reward += reward\n",
    "        #St+1——At+1\n",
    "        next_action_indx, next_action = take_epilon_greedy_action(next_state, epsilon)\n",
    "\n",
    "        # if render:\n",
    "        #     env.render()\n",
    "        \n",
    "        #未结束\n",
    "        if not done:\n",
    "            #ε-贪心策略决定At+1\n",
    "            td_target = reward + gama * q_table[get_discrete_state(next_state)][next_action_indx]\n",
    "            #更新Q(St，At)\n",
    "            q_table[get_discrete_state(state)][action_indx] += alpha * (td_target - q_table[get_discrete_state(state)][action_indx])\n",
    "        \n",
    "        #到达目标点，结束\n",
    "        elif next_state[0] >= 0.5:\n",
    "            # print(\"I made it on episode: {} Reward: {}\".format(episode,reward))\n",
    "            q_table[get_discrete_state(state)][action_indx] = 0\n",
    "        \n",
    "        #状态迭代\n",
    "        state = next_state\n",
    "        action = next_action\n",
    "        action_indx = next_action_indx\n",
    "\n",
    "    # ε值的递减\n",
    "    if end_episode >= episode >= start_episode:\n",
    "        epsilon -= de_step\n",
    "\n",
    "    # 每轮回报值的存储\n",
    "    ep_rewards.append(ep_reward)\n",
    "\n",
    "    # 每个SHOW_EVERY轮显示并存储数据\n",
    "    if episode % display_num == 0:\n",
    "        avg_reward = sum(ep_rewards[-display_num:]) / len(ep_rewards[-display_num:])\n",
    "        aggr_ep_rewards['ep'].append(episode)\n",
    "        aggr_ep_rewards['avg'].append(avg_reward)\n",
    "        aggr_ep_rewards['min'].append(min(ep_rewards[-display_num:]))\n",
    "        aggr_ep_rewards['max'].append(max(ep_rewards[-display_num:]))"
   ]
  },
  {
   "cell_type": "markdown",
   "metadata": {},
   "source": [
    "# Display Rewards"
   ]
  },
  {
   "cell_type": "code",
   "execution_count": 12,
   "metadata": {},
   "outputs": [
    {
     "data": {
      "text/plain": [
       "Text(0, 0.5, 'Rewards')"
      ]
     },
     "execution_count": 12,
     "metadata": {},
     "output_type": "execute_result"
    },
    {
     "data": {
      "image/png": "[encoded data removed]",
      "text/plain": [
       "<Figure size 432x288 with 1 Axes>"
      ]
     },
     "metadata": {
      "needs_background": "light"
     },
     "output_type": "display_data"
    }
   ],
   "source": [
    "#回报展示\n",
    "plt.plot(aggr_ep_rewards['ep'], aggr_ep_rewards['avg'], label = 'avg')\n",
    "plt.plot(aggr_ep_rewards['ep'], aggr_ep_rewards['min'], label = 'min')\n",
    "plt.plot(aggr_ep_rewards['ep'], aggr_ep_rewards['max'], label = 'max')\n",
    "plt.legend(loc='upper left')\n",
    "plt.xlabel('Episodes')\n",
    "plt.ylabel('Rewards')"
   ]
  },
  {
   "cell_type": "markdown",
   "metadata": {},
   "source": [
    "# Test"
   ]
  },
  {
   "cell_type": "code",
   "execution_count": 18,
   "metadata": {},
   "outputs": [],
   "source": [
    "#训练结果测试\n",
    "done = False\n",
    "state = env.reset()\n",
    "while not done:\n",
    "    action_indx = np.argmax(q_table[get_discrete_state(state)])\n",
    "    next_state, _, done, _ = env.step(action_space[action_indx])\n",
    "    state = next_state\n",
    "    env.render()\n",
    "\n",
    "env.close()"
   ]
  },
  {
   "cell_type": "code",
   "execution_count": null,
   "metadata": {},
   "outputs": [],
   "source": []
  }
 ],
 "metadata": {
  "kernelspec": {
   "display_name": "Python 3",
   "language": "python",
   "name": "python3"
  },
  "language_info": {
   "codemirror_mode": {
    "name": "ipython",
    "version": 3
   },
   "file_extension": ".py",
   "mimetype": "text/x-python",
   "name": "python",
   "nbconvert_exporter": "python",
   "pygments_lexer": "ipython3",
   "version": "3.7.5"
  }
 },
 "nbformat": 4,
 "nbformat_minor": 2
}
